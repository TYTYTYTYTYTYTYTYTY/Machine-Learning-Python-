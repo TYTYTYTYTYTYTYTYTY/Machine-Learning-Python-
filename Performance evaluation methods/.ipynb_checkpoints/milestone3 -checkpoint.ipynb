{
 "cells": [
  {
   "cell_type": "code",
   "execution_count": 1,
   "metadata": {},
   "outputs": [],
   "source": [
    "import numpy as np\n",
    "import pandas as pd \n",
    "import sklearn as sk \n",
    "from sklearn.model_selection import train_test_split\n",
    "from sklearn.model_selection import KFold\n",
    "from sklearn.preprocessing import PolynomialFeatures\n",
    "from sklearn.preprocessing import StandardScaler\n",
    "\n",
    "from sklearn.kernel_ridge import KernelRidge \n",
    "from sklearn.linear_model import Lasso\n",
    "\n",
    "import seaborn as sns\n",
    "color = sns.color_palette()\n",
    "sns.set_style('darkgrid')\n",
    "\n",
    "import warnings\n",
    "warnings.filterwarnings(\"ignore\")"
   ]
  },
  {
   "cell_type": "code",
   "execution_count": 2,
   "metadata": {},
   "outputs": [
    {
     "data": {
      "text/html": [
       "<div>\n",
       "<style scoped>\n",
       "    .dataframe tbody tr th:only-of-type {\n",
       "        vertical-align: middle;\n",
       "    }\n",
       "\n",
       "    .dataframe tbody tr th {\n",
       "        vertical-align: top;\n",
       "    }\n",
       "\n",
       "    .dataframe thead th {\n",
       "        text-align: right;\n",
       "    }\n",
       "</style>\n",
       "<table border=\"1\" class=\"dataframe\">\n",
       "  <thead>\n",
       "    <tr style=\"text-align: right;\">\n",
       "      <th></th>\n",
       "      <th>Elevation</th>\n",
       "      <th>Aspect</th>\n",
       "      <th>Slope</th>\n",
       "      <th>Horizontal_Distance_To_Hydrology</th>\n",
       "      <th>Vertical_Distance_To_Hydrology</th>\n",
       "      <th>Horizontal_Distance_To_Roadways</th>\n",
       "      <th>Hillshade_9am</th>\n",
       "      <th>Hillshade_Noon</th>\n",
       "      <th>Hillshade_3pm</th>\n",
       "      <th>climate_zone</th>\n",
       "      <th>geologic</th>\n",
       "      <th>soil</th>\n",
       "    </tr>\n",
       "  </thead>\n",
       "  <tbody>\n",
       "    <tr>\n",
       "      <th>0</th>\n",
       "      <td>3106</td>\n",
       "      <td>347</td>\n",
       "      <td>5</td>\n",
       "      <td>42</td>\n",
       "      <td>1</td>\n",
       "      <td>1400</td>\n",
       "      <td>210</td>\n",
       "      <td>231</td>\n",
       "      <td>160</td>\n",
       "      <td>7</td>\n",
       "      <td>2</td>\n",
       "      <td>2</td>\n",
       "    </tr>\n",
       "    <tr>\n",
       "      <th>1</th>\n",
       "      <td>3132</td>\n",
       "      <td>121</td>\n",
       "      <td>1</td>\n",
       "      <td>0</td>\n",
       "      <td>0</td>\n",
       "      <td>466</td>\n",
       "      <td>221</td>\n",
       "      <td>237</td>\n",
       "      <td>152</td>\n",
       "      <td>7</td>\n",
       "      <td>1</td>\n",
       "      <td>1</td>\n",
       "    </tr>\n",
       "    <tr>\n",
       "      <th>2</th>\n",
       "      <td>3255</td>\n",
       "      <td>69</td>\n",
       "      <td>13</td>\n",
       "      <td>162</td>\n",
       "      <td>16</td>\n",
       "      <td>870</td>\n",
       "      <td>233</td>\n",
       "      <td>214</td>\n",
       "      <td>110</td>\n",
       "      <td>7</td>\n",
       "      <td>7</td>\n",
       "      <td>56</td>\n",
       "    </tr>\n",
       "  </tbody>\n",
       "</table>\n",
       "</div>"
      ],
      "text/plain": [
       "   Elevation  Aspect  Slope  Horizontal_Distance_To_Hydrology  \\\n",
       "0       3106     347      5                                42   \n",
       "1       3132     121      1                                 0   \n",
       "2       3255      69     13                               162   \n",
       "\n",
       "   Vertical_Distance_To_Hydrology  Horizontal_Distance_To_Roadways  \\\n",
       "0                               1                             1400   \n",
       "1                               0                              466   \n",
       "2                              16                              870   \n",
       "\n",
       "   Hillshade_9am  Hillshade_Noon  Hillshade_3pm climate_zone geologic soil  \n",
       "0            210             231            160            7        2    2  \n",
       "1            221             237            152            7        1    1  \n",
       "2            233             214            110            7        7   56  "
      ]
     },
     "execution_count": 2,
     "metadata": {},
     "output_type": "execute_result"
    }
   ],
   "source": [
    "dataset_train = pd.read_csv('train.csv')\n",
    "X = dataset_train.iloc[:, 1:11]\n",
    "Y = dataset_train.iloc[:, 11]\n",
    "\n",
    "X['climate_zone'] = X['Soil_Type'].astype(str).str[0] \n",
    "X['geologic'] = X['Soil_Type'].astype(str).str[1] \n",
    "X['soil'] = X['Soil_Type'] % 100\n",
    "X['soil'] = X['soil'].astype('category')\n",
    "X['climate_zone'] = X['climate_zone'].astype('category')\n",
    "X['geologic'] = X['geologic'].astype('category')\n",
    "X = X.drop(columns =['Soil_Type'])\n",
    "\n",
    "X.head(3)"
   ]
  },
  {
   "cell_type": "code",
   "execution_count": 3,
   "metadata": {},
   "outputs": [
    {
     "data": {
      "text/html": [
       "<div>\n",
       "<style scoped>\n",
       "    .dataframe tbody tr th:only-of-type {\n",
       "        vertical-align: middle;\n",
       "    }\n",
       "\n",
       "    .dataframe tbody tr th {\n",
       "        vertical-align: top;\n",
       "    }\n",
       "\n",
       "    .dataframe thead th {\n",
       "        text-align: right;\n",
       "    }\n",
       "</style>\n",
       "<table border=\"1\" class=\"dataframe\">\n",
       "  <thead>\n",
       "    <tr style=\"text-align: right;\">\n",
       "      <th></th>\n",
       "      <th>0</th>\n",
       "      <th>1</th>\n",
       "      <th>2</th>\n",
       "      <th>3</th>\n",
       "      <th>4</th>\n",
       "      <th>5</th>\n",
       "      <th>6</th>\n",
       "      <th>7</th>\n",
       "      <th>8</th>\n",
       "      <th>climate_zone_4</th>\n",
       "      <th>...</th>\n",
       "      <th>soil_3</th>\n",
       "      <th>soil_31</th>\n",
       "      <th>soil_45</th>\n",
       "      <th>soil_55</th>\n",
       "      <th>soil_56</th>\n",
       "      <th>soil_57</th>\n",
       "      <th>soil_58</th>\n",
       "      <th>soil_71</th>\n",
       "      <th>soil_72</th>\n",
       "      <th>soil_76</th>\n",
       "    </tr>\n",
       "  </thead>\n",
       "  <tbody>\n",
       "    <tr>\n",
       "      <th>0</th>\n",
       "      <td>-1.313926</td>\n",
       "      <td>1.322331</td>\n",
       "      <td>-1.264149</td>\n",
       "      <td>-1.238966</td>\n",
       "      <td>-0.798534</td>\n",
       "      <td>0.664024</td>\n",
       "      <td>0.066913</td>\n",
       "      <td>0.228827</td>\n",
       "      <td>0.210945</td>\n",
       "      <td>0</td>\n",
       "      <td>...</td>\n",
       "      <td>0</td>\n",
       "      <td>0</td>\n",
       "      <td>0</td>\n",
       "      <td>0</td>\n",
       "      <td>0</td>\n",
       "      <td>0</td>\n",
       "      <td>0</td>\n",
       "      <td>0</td>\n",
       "      <td>0</td>\n",
       "      <td>0</td>\n",
       "    </tr>\n",
       "    <tr>\n",
       "      <th>1</th>\n",
       "      <td>-1.053345</td>\n",
       "      <td>-0.639295</td>\n",
       "      <td>-1.884905</td>\n",
       "      <td>-1.434628</td>\n",
       "      <td>-0.815591</td>\n",
       "      <td>-0.951719</td>\n",
       "      <td>0.480502</td>\n",
       "      <td>0.612582</td>\n",
       "      <td>-0.014124</td>\n",
       "      <td>0</td>\n",
       "      <td>...</td>\n",
       "      <td>0</td>\n",
       "      <td>0</td>\n",
       "      <td>0</td>\n",
       "      <td>0</td>\n",
       "      <td>0</td>\n",
       "      <td>0</td>\n",
       "      <td>0</td>\n",
       "      <td>0</td>\n",
       "      <td>0</td>\n",
       "      <td>0</td>\n",
       "    </tr>\n",
       "    <tr>\n",
       "      <th>2</th>\n",
       "      <td>0.179402</td>\n",
       "      <td>-1.090643</td>\n",
       "      <td>-0.022638</td>\n",
       "      <td>-0.679932</td>\n",
       "      <td>-0.542678</td>\n",
       "      <td>-0.252832</td>\n",
       "      <td>0.931690</td>\n",
       "      <td>-0.858478</td>\n",
       "      <td>-1.195732</td>\n",
       "      <td>0</td>\n",
       "      <td>...</td>\n",
       "      <td>0</td>\n",
       "      <td>0</td>\n",
       "      <td>0</td>\n",
       "      <td>0</td>\n",
       "      <td>1</td>\n",
       "      <td>0</td>\n",
       "      <td>0</td>\n",
       "      <td>0</td>\n",
       "      <td>0</td>\n",
       "      <td>0</td>\n",
       "    </tr>\n",
       "  </tbody>\n",
       "</table>\n",
       "<p>3 rows × 29 columns</p>\n",
       "</div>"
      ],
      "text/plain": [
       "          0         1         2         3         4         5         6  \\\n",
       "0 -1.313926  1.322331 -1.264149 -1.238966 -0.798534  0.664024  0.066913   \n",
       "1 -1.053345 -0.639295 -1.884905 -1.434628 -0.815591 -0.951719  0.480502   \n",
       "2  0.179402 -1.090643 -0.022638 -0.679932 -0.542678 -0.252832  0.931690   \n",
       "\n",
       "          7         8  climate_zone_4   ...     soil_3  soil_31  soil_45  \\\n",
       "0  0.228827  0.210945               0   ...          0        0        0   \n",
       "1  0.612582 -0.014124               0   ...          0        0        0   \n",
       "2 -0.858478 -1.195732               0   ...          0        0        0   \n",
       "\n",
       "   soil_55  soil_56  soil_57  soil_58  soil_71  soil_72  soil_76  \n",
       "0        0        0        0        0        0        0        0  \n",
       "1        0        0        0        0        0        0        0  \n",
       "2        0        1        0        0        0        0        0  \n",
       "\n",
       "[3 rows x 29 columns]"
      ]
     },
     "execution_count": 3,
     "metadata": {},
     "output_type": "execute_result"
    }
   ],
   "source": [
    "scaler = StandardScaler().fit(np.array(X.iloc[:,:9]))\n",
    "\n",
    "X_std = scaler.transform(np.array(X.iloc[:,:9]))\n",
    "X_std = pd.DataFrame(X_std)\n",
    "X_std_full = pd.concat([X_std,X.iloc[:,9::]],axis = 1)\n",
    "X_std_full = pd.get_dummies(X_std_full)\n",
    "\n",
    "X_std_full.head(3)"
   ]
  },
  {
   "cell_type": "code",
   "execution_count": 4,
   "metadata": {},
   "outputs": [],
   "source": [
    "poly = PolynomialFeatures(interaction_only = True, include_bias=False)\n",
    "X_std_full_poly = poly.fit_transform(X_std_full)\n",
    "X_std_full_poly = pd.DataFrame(X_std_full_poly)"
   ]
  },
  {
   "cell_type": "markdown",
   "metadata": {},
   "source": [
    "### Models \n"
   ]
  },
  {
   "cell_type": "code",
   "execution_count": 5,
   "metadata": {},
   "outputs": [],
   "source": [
    "def  ridgeReg(x,y,x1):\n",
    "\tclf = KernelRidge(alpha =0.4)\n",
    "\tclf.fit(x,y)\n",
    "\n",
    "\tpredict = clf.predict(x1)\n",
    "\n",
    "\treturn(predict)"
   ]
  },
  {
   "cell_type": "code",
   "execution_count": 12,
   "metadata": {},
   "outputs": [],
   "source": [
    "def lassoReg(x,y,x1):\n",
    "\tclf = Lasso(alpha=0.1,max_iter =10000)\n",
    "\tclf.fit(x,y)\n",
    "\n",
    "\tpredict = clf.predict(x1)\n",
    "\n",
    "\treturn(predict)"
   ]
  },
  {
   "cell_type": "markdown",
   "metadata": {},
   "source": [
    "### Score \n"
   ]
  },
  {
   "cell_type": "code",
   "execution_count": 7,
   "metadata": {},
   "outputs": [],
   "source": [
    "def RMse(y,y1):\n",
    "\t# y, y1 are 1xn\n",
    "\tn = y.shape[0]\n",
    "\tmse = np.square(y-y1).sum()/n\n",
    "\n",
    "\treturn(np.sqrt(mse))"
   ]
  },
  {
   "cell_type": "markdown",
   "metadata": {},
   "source": [
    "### Cross validation\n"
   ]
  },
  {
   "cell_type": "code",
   "execution_count": 8,
   "metadata": {},
   "outputs": [],
   "source": [
    "def ten_rerun(model, xtr, ytr):\n",
    "    rmse =[]\n",
    "    for i in range(10):\n",
    "        rmse_recorder =[]\n",
    "        kf= KFold(n_splits =10, random_state = i, shuffle= True)\n",
    "        for train_index, test_index in kf.split(xtr):\n",
    "            pred= model(xtr.iloc[train_index], ytr.iloc[train_index],xtr.iloc[test_index])\n",
    "            rmse_recorder.append(RMse(pred,ytr.iloc[test_index]))\n",
    "        rmse.append(np.mean(np.array(rmse_recorder)))\n",
    "        \n",
    "    return(np.array(rmse))\n",
    "        \n"
   ]
  },
  {
   "cell_type": "code",
   "execution_count": 9,
   "metadata": {},
   "outputs": [
    {
     "name": "stdout",
     "output_type": "stream",
     "text": [
      "[744.54518893 743.94496979 743.20235237 744.68447601 743.40931103\n",
      " 744.91749951 744.36844148 745.35759514 744.56043964 743.8391769 ]\n"
     ]
    }
   ],
   "source": [
    "ridge_rmse = ten_rerun(ridgeReg,X_std_full_poly,Y)\n",
    "print(ridge_rmse)"
   ]
  },
  {
   "cell_type": "code",
   "execution_count": 13,
   "metadata": {},
   "outputs": [
    {
     "name": "stdout",
     "output_type": "stream",
     "text": [
      "[745.61784133 744.97159653 744.20888253 745.79008959 744.44027315\n",
      " 746.11235198 745.36225059 746.12352831 745.52459137 744.68873536]\n"
     ]
    }
   ],
   "source": [
    "lasso_rmse = ten_rerun(lassoReg,X_std_full_poly,Y)\n",
    "print(lasso_rmse)"
   ]
  },
  {
   "cell_type": "markdown",
   "metadata": {},
   "source": [
    "Choose wilocxon sign -ranked test, which do not have strong assumption over the data, and is more powerful than sign test. <br>\n",
    "\n",
    "$H_0:both ~odels~ have~ same~ performance$ VS $H_a: \\lnot H_0$"
   ]
  },
  {
   "cell_type": "code",
   "execution_count": 14,
   "metadata": {},
   "outputs": [
    {
     "name": "stdout",
     "output_type": "stream",
     "text": [
      "[1.07265239 1.02662674 1.00653017 1.10561358 1.03096213 1.19485247\n",
      " 0.99380911 0.76593317 0.96415174 0.84955845]\n"
     ]
    }
   ],
   "source": [
    "print(lasso_rmse-ridge_rmse)"
   ]
  },
  {
   "cell_type": "markdown",
   "metadata": {},
   "source": [
    "| Ridge        | Lasso        | Difference | sign | Rank |\n",
    "|--------------|--------------|------------|------|------|\n",
    "| 744.54518893 | 745.61784133 | 1.07265239 | +    | 8    |\n",
    "| 743.94496979 | 744.97159653 | 1.02662674 | +    | 6    |\n",
    "| 743.20235237 | 744.20888253 | 1.00653017 | +    | 5    |\n",
    "| 744.68447601 | 745.79008959 | 1.10561358 | +    | 9    |\n",
    "| 743.40931103 | 744.44027315 | 1.03096213 | +    | 7    |\n",
    "| 744.91749951 | 746.11235198 | 1.19485247 | +    | 10   |\n",
    "| 744.36844148 | 745.36225059 | 0.99380911 | +    | 4    |\n",
    "| 745.35759514 | 746.12352831 | 0.76593317 | +    | 1    |\n",
    "| 744.56043964 | 745.52459137 | 0.96415174 | +    | 3    |\n",
    "| 743.8391769  | 744.68873536 | 0.84955845 | +    | 2    |"
   ]
  },
  {
   "cell_type": "markdown",
   "metadata": {},
   "source": [
    "$W_{ridge}=55$ and $W_{Lasso} =0$ <br>\n",
    "$T_{wilcox} =min(W_{ridge},W_{Lasso})$ <br>\n",
    "For n= 10-1 degrees of freedom and $\\alpha$ = 0.005, V = 5 for the 2-sided test. V must be larger than\n",
    "TWilcox in order to reject the hypothesis. Since 0 < 5, we have sufficient evidence to reject the hypothesis that Lasso’sperformance is equal to that of ridge at the 0.005 level."
   ]
  },
  {
   "cell_type": "code",
   "execution_count": null,
   "metadata": {},
   "outputs": [],
   "source": []
  }
 ],
 "metadata": {
  "kernelspec": {
   "display_name": "Python 3",
   "language": "python",
   "name": "python3"
  },
  "language_info": {
   "codemirror_mode": {
    "name": "ipython",
    "version": 3
   },
   "file_extension": ".py",
   "mimetype": "text/x-python",
   "name": "python",
   "nbconvert_exporter": "python",
   "pygments_lexer": "ipython3",
   "version": "3.7.1"
  }
 },
 "nbformat": 4,
 "nbformat_minor": 2
}
